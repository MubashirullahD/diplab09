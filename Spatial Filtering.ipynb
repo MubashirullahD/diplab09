{
 "cells": [
  {
   "cell_type": "markdown",
   "metadata": {},
   "source": [
    "### Applying spatial filtering for blurring/noise reduction "
   ]
  },
  {
   "cell_type": "code",
   "execution_count": 1,
   "metadata": {},
   "outputs": [],
   "source": [
    "import cv2\n",
    "from PIL import Image\n",
    "import numpy as np"
   ]
  },
  {
   "cell_type": "code",
   "execution_count": 2,
   "metadata": {},
   "outputs": [
    {
     "name": "stdout",
     "output_type": "stream",
     "text": [
      "(688, 688)\n"
     ]
    },
    {
     "data": {
      "image/png": "[encoded data removed]",
      "text/plain": [
       "<PIL.Image.Image image mode=L size=688x688 at 0x2FB60B0>"
      ]
     },
     "execution_count": 2,
     "metadata": {},
     "output_type": "execute_result"
    }
   ],
   "source": [
    "img = cv2.imread('smoothing.tif', 2)\n",
    "print img.shape\n",
    "Image.fromarray(img)"
   ]
  },
  {
   "cell_type": "code",
   "execution_count": 7,
   "metadata": {},
   "outputs": [],
   "source": [
    "def spatialfilter(img, filtersize, weights):\n",
    "    imgshow = Image.fromarray(img)\n",
    "    imgshow.show()\n",
    "    \n",
    "    arrayfilter = np.ones((filtersize,filtersize)) * weights\n",
    "    print(arrayfilter)\n",
    "    \n",
    "    [height, width] = img.shape\n",
    "    newimg          = img.copy()\n",
    "\n",
    "    arraytemp       = np.zeros((filtersize,filtersize), np.int16)\n",
    "    [a,b]           = arraytemp.shape\n",
    "    b               = (a-1) / 2\n",
    "    aaxis           = np.linspace(-b,b,a).astype(np.int8)\n",
    "    baxis           = np.linspace(-b,b,a).astype(np.int8)\n",
    "\n",
    "    for y in range(height):\n",
    "        for x in range(width):\n",
    "            endy = a+y\n",
    "            endx = a+x\n",
    "            if endy < height and endx < width:\n",
    "                arraytemp    = np.multiply(arrayfilter, img[y:endy, x:endx])\n",
    "                newimg[y+b][x+b] = arraytemp.sum()\n",
    "    \n",
    "    newimgshow = Image.fromarray(newimg)\n",
    "    newimgshow.show()\n",
    "                \n",
    "        "
   ]
  },
  {
   "cell_type": "code",
   "execution_count": 9,
   "metadata": {},
   "outputs": [],
   "source": [
    "#make filter"
   ]
  },
  {
   "cell_type": "code",
   "execution_count": 8,
   "metadata": {
    "scrolled": true
   },
   "outputs": [
    {
     "name": "stdout",
     "output_type": "stream",
     "text": [
      "[[0.00081633 0.00081633 0.00081633 ... 0.00081633 0.00081633 0.00081633]\n",
      " [0.00081633 0.00081633 0.00081633 ... 0.00081633 0.00081633 0.00081633]\n",
      " [0.00081633 0.00081633 0.00081633 ... 0.00081633 0.00081633 0.00081633]\n",
      " ...\n",
      " [0.00081633 0.00081633 0.00081633 ... 0.00081633 0.00081633 0.00081633]\n",
      " [0.00081633 0.00081633 0.00081633 ... 0.00081633 0.00081633 0.00081633]\n",
      " [0.00081633 0.00081633 0.00081633 ... 0.00081633 0.00081633 0.00081633]]\n"
     ]
    }
   ],
   "source": [
    "spatialfilter(img, 35, (1/(35.0*35)))"
   ]
  },
  {
   "cell_type": "code",
   "execution_count": null,
   "metadata": {},
   "outputs": [],
   "source": []
  }
 ],
 "metadata": {
  "kernelspec": {
   "display_name": "Python 2",
   "language": "python",
   "name": "python2"
  },
  "language_info": {
   "codemirror_mode": {
    "name": "ipython",
    "version": 2
   },
   "file_extension": ".py",
   "mimetype": "text/x-python",
   "name": "python",
   "nbconvert_exporter": "python",
   "pygments_lexer": "ipython2",
   "version": "2.7.15"
  }
 },
 "nbformat": 4,
 "nbformat_minor": 2
}
